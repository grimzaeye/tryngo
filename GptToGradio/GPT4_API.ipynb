{
 "cells": [
  {
   "cell_type": "code",
   "execution_count": 7,
   "metadata": {},
   "outputs": [
    {
     "name": "stdout",
     "output_type": "stream",
     "text": [
      "Requirement already satisfied: openai in /Users/semikwon/miniconda3/lib/python3.10/site-packages (1.25.2)\n",
      "Requirement already satisfied: pydantic<3,>=1.9.0 in /Users/semikwon/miniconda3/lib/python3.10/site-packages (from openai) (1.10.12)\n",
      "Requirement already satisfied: anyio<5,>=3.5.0 in /Users/semikwon/miniconda3/lib/python3.10/site-packages (from openai) (3.5.0)\n",
      "Requirement already satisfied: typing-extensions<5,>=4.7 in /Users/semikwon/miniconda3/lib/python3.10/site-packages (from openai) (4.11.0)\n",
      "Requirement already satisfied: sniffio in /Users/semikwon/miniconda3/lib/python3.10/site-packages (from openai) (1.2.0)\n",
      "Requirement already satisfied: distro<2,>=1.7.0 in /Users/semikwon/miniconda3/lib/python3.10/site-packages (from openai) (1.9.0)\n",
      "Requirement already satisfied: tqdm>4 in /Users/semikwon/miniconda3/lib/python3.10/site-packages (from openai) (4.65.0)\n",
      "Requirement already satisfied: httpx<1,>=0.23.0 in /Users/semikwon/miniconda3/lib/python3.10/site-packages (from openai) (0.27.0)\n",
      "Requirement already satisfied: idna>=2.8 in /Users/semikwon/miniconda3/lib/python3.10/site-packages (from anyio<5,>=3.5.0->openai) (3.4)\n",
      "Requirement already satisfied: httpcore==1.* in /Users/semikwon/miniconda3/lib/python3.10/site-packages (from httpx<1,>=0.23.0->openai) (1.0.5)\n",
      "Requirement already satisfied: certifi in /Users/semikwon/miniconda3/lib/python3.10/site-packages (from httpx<1,>=0.23.0->openai) (2022.12.7)\n",
      "Requirement already satisfied: h11<0.15,>=0.13 in /Users/semikwon/miniconda3/lib/python3.10/site-packages (from httpcore==1.*->httpx<1,>=0.23.0->openai) (0.14.0)\n",
      "Note: you may need to restart the kernel to use updated packages.\n"
     ]
    }
   ],
   "source": [
    "pip install openai"
   ]
  },
  {
   "cell_type": "code",
   "execution_count": 8,
   "metadata": {},
   "outputs": [
    {
     "name": "stdout",
     "output_type": "stream",
     "text": [
      "Requirement already satisfied: openai in /Users/semikwon/miniconda3/lib/python3.10/site-packages (1.25.2)\n",
      "Requirement already satisfied: sniffio in /Users/semikwon/miniconda3/lib/python3.10/site-packages (from openai) (1.2.0)\n",
      "Requirement already satisfied: anyio<5,>=3.5.0 in /Users/semikwon/miniconda3/lib/python3.10/site-packages (from openai) (3.5.0)\n",
      "Requirement already satisfied: typing-extensions<5,>=4.7 in /Users/semikwon/miniconda3/lib/python3.10/site-packages (from openai) (4.11.0)\n",
      "Requirement already satisfied: pydantic<3,>=1.9.0 in /Users/semikwon/miniconda3/lib/python3.10/site-packages (from openai) (1.10.12)\n",
      "Requirement already satisfied: httpx<1,>=0.23.0 in /Users/semikwon/miniconda3/lib/python3.10/site-packages (from openai) (0.27.0)\n",
      "Requirement already satisfied: tqdm>4 in /Users/semikwon/miniconda3/lib/python3.10/site-packages (from openai) (4.65.0)\n",
      "Requirement already satisfied: distro<2,>=1.7.0 in /Users/semikwon/miniconda3/lib/python3.10/site-packages (from openai) (1.9.0)\n",
      "Requirement already satisfied: idna>=2.8 in /Users/semikwon/miniconda3/lib/python3.10/site-packages (from anyio<5,>=3.5.0->openai) (3.4)\n",
      "Requirement already satisfied: httpcore==1.* in /Users/semikwon/miniconda3/lib/python3.10/site-packages (from httpx<1,>=0.23.0->openai) (1.0.5)\n",
      "Requirement already satisfied: certifi in /Users/semikwon/miniconda3/lib/python3.10/site-packages (from httpx<1,>=0.23.0->openai) (2022.12.7)\n",
      "Requirement already satisfied: h11<0.15,>=0.13 in /Users/semikwon/miniconda3/lib/python3.10/site-packages (from httpcore==1.*->httpx<1,>=0.23.0->openai) (0.14.0)\n",
      "Note: you may need to restart the kernel to use updated packages.\n"
     ]
    }
   ],
   "source": [
    "pip install --upgrade openai"
   ]
  },
  {
   "cell_type": "code",
   "execution_count": 34,
   "metadata": {},
   "outputs": [
    {
     "name": "stdout",
     "output_type": "stream",
     "text": [
      "I can't set reminders directly, but I can suggest setting a reminder on your phone or calendar app for picking up your dry cleaning tomorrow. Would you like advice on how to set it up?\n"
     ]
    }
   ],
   "source": [
    "import os\n",
    "import openai\n",
    "client = OpenAI(api_key=\"sk-proj-ilIgm1f785Qs1vCRSOzwT3BlbkFJIYwPOsEEvkCwSDBefrpq\")\n",
    "\n",
    "response = client.chat.completions.create(\n",
    "  model=\"gpt-4-turbo\",\n",
    "  messages=[\n",
    "    {\"role\": \"system\", \"content\": \"You are a friendly assistant helping user to organize schedules.\"},\n",
    "    {\"role\": \"user\", \"content\": \"Can you remind me to pick up my dry cleaning tomorrow?\"}\n",
    "  ],\n",
    ")\n",
    "\n",
    "print(response.choices[0].message.content)"
   ]
  },
  {
   "cell_type": "code",
   "execution_count": 28,
   "metadata": {},
   "outputs": [],
   "source": [
    "\n",
    "  \n",
    "assistant = client.beta.assistants.create(\n",
    "  name=\"Math Tutor\",\n",
    "  instructions=\"You are a personal math tutor. Write and run code to answer math questions.\",\n",
    "  tools=[{\"type\": \"code_interpreter\"}],\n",
    "  model=\"gpt-4-turbo\",\n",
    ")"
   ]
  },
  {
   "cell_type": "code",
   "execution_count": 29,
   "metadata": {},
   "outputs": [],
   "source": [
    "thread = client.beta.threads.create()"
   ]
  },
  {
   "cell_type": "code",
   "execution_count": 30,
   "metadata": {},
   "outputs": [],
   "source": [
    "message = client.beta.threads.messages.create(\n",
    "  thread_id=thread.id,\n",
    "  role=\"user\",\n",
    "  content=\"I need to solve the equation `3x + 11 = 14`. Can you help me?\"\n",
    ")"
   ]
  },
  {
   "cell_type": "code",
   "execution_count": 31,
   "metadata": {},
   "outputs": [
    {
     "name": "stdout",
     "output_type": "stream",
     "text": [
      "\n",
      "assistant > Sure, Jane Doe! Let's solve the equation \\(3x + 11 = 14\\).\n",
      "\n",
      "We need to find the value of \\(x\\) that satisfies this equation. We start by isolating \\(x\\) on one side of the equation. Let's do the math.\n",
      "assistant > code_interpreter\n",
      "\n",
      "from sympy import symbols, Eq, solve\n",
      "\n",
      "x = symbols('x')\n",
      "equation = Eq(3*x + 11, 14)\n",
      "solution = solve(equation)\n",
      "solution\n",
      "\n",
      "output >\n",
      "\n",
      "[1]\n",
      "\n",
      "assistant > The solution to the equation \\(3x + 11 = 14\\) is \\(x = 1\\)."
     ]
    }
   ],
   "source": [
    "from typing_extensions import override\n",
    "from openai import AssistantEventHandler\n",
    " \n",
    "# First, we create a EventHandler class to define\n",
    "# how we want to handle the events in the response stream.\n",
    " \n",
    "class EventHandler(AssistantEventHandler):    \n",
    "  @override\n",
    "  def on_text_created(self, text) -> None:\n",
    "    print(f\"\\nassistant > \", end=\"\", flush=True)\n",
    "      \n",
    "  @override\n",
    "  def on_text_delta(self, delta, snapshot):\n",
    "    print(delta.value, end=\"\", flush=True)\n",
    "      \n",
    "  def on_tool_call_created(self, tool_call):\n",
    "    print(f\"\\nassistant > {tool_call.type}\\n\", flush=True)\n",
    "  \n",
    "  def on_tool_call_delta(self, delta, snapshot):\n",
    "    if delta.type == 'code_interpreter':\n",
    "      if delta.code_interpreter.input:\n",
    "        print(delta.code_interpreter.input, end=\"\", flush=True)\n",
    "      if delta.code_interpreter.outputs:\n",
    "        print(f\"\\n\\noutput >\", flush=True)\n",
    "        for output in delta.code_interpreter.outputs:\n",
    "          if output.type == \"logs\":\n",
    "            print(f\"\\n{output.logs}\", flush=True)\n",
    " \n",
    "# Then, we use the `stream` SDK helper \n",
    "# with the `EventHandler` class to create the Run \n",
    "# and stream the response.\n",
    " \n",
    "with client.beta.threads.runs.stream(\n",
    "  thread_id=thread.id,\n",
    "  assistant_id=assistant.id,\n",
    "  instructions=\"Please address the user as Jane Doe. The user has a premium account.\",\n",
    "  event_handler=EventHandler(),\n",
    ") as stream:\n",
    "  stream.until_done()"
   ]
  }
 ],
 "metadata": {
  "kernelspec": {
   "display_name": "base",
   "language": "python",
   "name": "python3"
  },
  "language_info": {
   "codemirror_mode": {
    "name": "ipython",
    "version": 3
   },
   "file_extension": ".py",
   "mimetype": "text/x-python",
   "name": "python",
   "nbconvert_exporter": "python",
   "pygments_lexer": "ipython3",
   "version": "3.10.8"
  },
  "orig_nbformat": 4
 },
 "nbformat": 4,
 "nbformat_minor": 2
}
