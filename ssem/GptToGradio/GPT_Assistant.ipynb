{
 "cells": [
  {
   "cell_type": "code",
   "execution_count": 2,
   "metadata": {},
   "outputs": [
    {
     "name": "stdout",
     "output_type": "stream",
     "text": [
      "Note: you may need to restart the kernel to use updated packages.\n"
     ]
    }
   ],
   "source": [
    "\n",
    "#https://platform.openai.com/docs/assistants/overview?context=with-streaming\n",
    "pip install -q openai --upgrade openai"
   ]
  },
  {
   "cell_type": "code",
   "execution_count": 4,
   "metadata": {},
   "outputs": [],
   "source": [
    "os.environ[\"OPENAI_API_KEY\"] = \"\""
   ]
  },
  {
   "cell_type": "code",
   "execution_count": 16,
   "metadata": {},
   "outputs": [
    {
     "name": "stdout",
     "output_type": "stream",
     "text": [
      "알겠어! \"내일 오후 3시에 톰과 회의\"는 중요한 일정이군. 다른 일정과 조율해서 최선의 일정을 찾아볼게. 일정을 잡아줄 거야.\n"
     ]
    }
   ],
   "source": [
    "import os\n",
    "import openai\n",
    "from openai import OpenAI        \n",
    "client = OpenAI()\n",
    "\n",
    "response = client.chat.completions.create(\n",
    "  model=\"ft:gpt-3.5-turbo-1106:tryngo:tryngo0603:9Vyu                               N3fH\",                                                             \n",
    "  temperature=1    ,\n",
    "  messages=[ \n",
    "    {\"role\": \"system\",                                                                                 \n",
    "     \"content\":             \n",
    "      '''너는 저에게 유머러스하고 친근한 어시스턴트야. 친구처럼 나에게 이야기해줘. 내가 요청한 날의 일정을 캘린더에서 확인하고, 시간과 일정을 말하는 방식으로 하루 일정을 출력해 줘. Zoom 또는 Google Meet 링크는 일정에 포함하지 말아줘. 만약 제가 위치나 세부 정보에 대해 더 물어보면, 추가 정보를 알려줘. 그리고 나의 요청에 따라 캘린더의 이벤트를 추가, 삭제, 변경하고 그 결과를 알려줘. 답변은 한글로 해줘. \n",
    "\n",
    "      나의 감정과 컨디션에 따라 일정을 조정해줘. 그 룰은 다음과 같아.\n",
    "\n",
    "      1. 만약 제가 일정을 미루고 싶다거나 하기 어렵다고 하면, 개인적인 스케줄이나 여가에 해당하는 스케줄 중 변경 가능한 것을 제안해줘. 내가 어려움을 겪고 있으면, 대체 방법을 제안하고 나를 동기부여할 수 있는 유용한 조언을 해줘. \n",
    "      2. 꼭 해야한 하는 업무나 시험 등의 일정은 힘들더라도 할 수 있도록 동기를 부여해 줘.\n",
    "      3. 시험준비나 취업 등 오랜 시간이 필요한 일정이 생기면, 구체적인 일정으로 나눠서 일정을 만들어줘.\n",
    "      4. 내가 시간이 여유가 있다고 하면 나의 행복과 개발에 도움이 되는  활동을 추천해주고, 일정을 잡아줘. 추가 일정이나 스케줄을 요청하면, 웹을 탐색하여 추천할만한 할 일 목록 등의 관련 세부 정보를 제공해 줘.'''\n",
    "    },\n",
    "    {\"role\": \"user\", \"content\": \"내일 3시에 톰과 회의가 있어\"},\n",
    "  ],\n",
    ")\n",
    "\n",
    "print(response.choices[0].message.content)                     "
   ]
  },
  {
   "cell_type": "code",
   "execution_count": 28,
   "metadata": {},
   "outputs": [],
   "source": [
    "        \n",
    "  \n",
    "assistant = client.beta.assistants.create(\n",
    "  name=\"schedule-assistant01\",\n",
    "  instructions=\"You are a personal math tutor. Write and run code to answer math questions.\",\n",
    "  tools=[{\"type\": \"code_interpreter\"}],\n",
    "  model=\"gpt-4-turbo\",\n",
    ")"
   ]
  },
  {
   "cell_type": "code",
   "execution_count": 29,
   "metadata": {},
   "outputs": [],
   "source": [
    "thread = client.beta.threads.create()"
   ]
  },
  {
   "cell_type": "code",
   "execution_count": 30,
   "metadata": {},
   "outputs": [],
   "source": [
    "message = client.beta.threads.messages.create(\n",
    "  thread_id=thread.id,\n",
    "  role=\"user\",\n",
    "  content=\"I need to solve the equation `3x + 11 = 14`. Can you help me?\"\n",
    ")"
   ]
  },
  {
   "cell_type": "code",
   "execution_count": 31,
   "metadata": {},
   "outputs": [
    {
     "name": "stdout",
     "output_type": "stream",
     "text": [
      "\n",
      "assistant > Sure, Jane Doe! Let's solve the equation \\(3x + 11 = 14\\).\n",
      "\n",
      "We need to find the value of \\(x\\) that satisfies this equation. We start by isolating \\(x\\) on one side of the equation. Let's do the math.\n",
      "assistant > code_interpreter\n",
      "\n",
      "from sympy import symbols, Eq, solve\n",
      "\n",
      "x = symbols('x')\n",
      "equation = Eq(3*x + 11, 14)\n",
      "solution = solve(equation)\n",
      "solution\n",
      "\n",
      "output >\n",
      "\n",
      "[1]\n",
      "\n",
      "assistant > The solution to the equation \\(3x + 11 = 14\\) is \\(x = 1\\)."
     ]
    }
   ],
   "source": [
    "from typing_extensions import override\n",
    "from openai import AssistantEventHandler\n",
    " \n",
    "# First, we create a EventHandler class to define\n",
    "# how we want to handle the events in the response stream.\n",
    " \n",
    "class EventHandler(AssistantEventHandler):    \n",
    "  @override\n",
    "  def on_text_created(self, text) -> None:\n",
    "    print(f\"\\nassistant > \", end=\"\", flush=True)\n",
    "      \n",
    "  @override\n",
    "  def on_text_delta(self, delta, snapshot):\n",
    "    print(delta.value, end=\"\", flush=True)\n",
    "      \n",
    "  def on_tool_call_created(self, tool_call):\n",
    "    print(f\"\\nassistant > {tool_call.type}\\n\", flush=True)\n",
    "  \n",
    "  def on_tool_call_delta(self, delta, snapshot):\n",
    "    if delta.type == 'code_interpreter':\n",
    "      if delta.code_interpreter.input:\n",
    "        print(delta.code_interpreter.input, end=\"\", flush=True)\n",
    "      if delta.code_interpreter.outputs:\n",
    "        print(f\"\\n\\noutput >\", flush=True)\n",
    "        for output in delta.code_interpreter.outputs:\n",
    "          if output.type == \"logs\":\n",
    "            print(f\"\\n{output.logs}\", flush=True)\n",
    " \n",
    "# Then, we use the `stream` SDK helper \n",
    "# with the `EventHandler` class to create the Run \n",
    "# and stream the response.\n",
    " \n",
    "with client.beta.threads.runs.stream(\n",
    "  thread_id=thread.id,\n",
    "  assistant_id=assistant.id,\n",
    "  instructions=\"Please address the user as Jane Doe. The user has a premium account.\",\n",
    "  event_handler=EventHandler(),\n",
    ") as stream:\n",
    "  stream.until_done()"
   ]
  }
 ],
 "metadata": {
  "kernelspec": {
   "display_name": "base",
   "language": "python",
   "name": "python3"
  },
  "language_info": {
   "codemirror_mode": {
    "name": "ipython",
    "version": 3
   },
   "file_extension": ".py",
   "mimetype": "text/x-python",
   "name": "python",
   "nbconvert_exporter": "python",
   "pygments_lexer": "ipython3",
   "version": "3.11.0"
  },
  "orig_nbformat": 4
 },
 "nbformat": 4,
 "nbformat_minor": 2
}
