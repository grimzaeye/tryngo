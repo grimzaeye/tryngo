{
 "cells": [
  {
   "cell_type": "code",
   "execution_count": 1,
   "metadata": {},
   "outputs": [
    {
     "name": "stdout",
     "output_type": "stream",
     "text": [
      "Requirement already satisfied: openai in /Users/semikwon/miniconda3/lib/python3.10/site-packages (1.25.2)\n",
      "Requirement already satisfied: anyio<5,>=3.5.0 in /Users/semikwon/miniconda3/lib/python3.10/site-packages (from openai) (3.5.0)\n",
      "Requirement already satisfied: tqdm>4 in /Users/semikwon/miniconda3/lib/python3.10/site-packages (from openai) (4.65.0)\n",
      "Requirement already satisfied: httpx<1,>=0.23.0 in /Users/semikwon/miniconda3/lib/python3.10/site-packages (from openai) (0.27.0)\n",
      "Requirement already satisfied: typing-extensions<5,>=4.7 in /Users/semikwon/miniconda3/lib/python3.10/site-packages (from openai) (4.11.0)\n",
      "Requirement already satisfied: pydantic<3,>=1.9.0 in /Users/semikwon/miniconda3/lib/python3.10/site-packages (from openai) (1.10.12)\n",
      "Requirement already satisfied: distro<2,>=1.7.0 in /Users/semikwon/miniconda3/lib/python3.10/site-packages (from openai) (1.9.0)\n",
      "Requirement already satisfied: sniffio in /Users/semikwon/miniconda3/lib/python3.10/site-packages (from openai) (1.2.0)\n",
      "Requirement already satisfied: idna>=2.8 in /Users/semikwon/miniconda3/lib/python3.10/site-packages (from anyio<5,>=3.5.0->openai) (3.4)\n",
      "Requirement already satisfied: httpcore==1.* in /Users/semikwon/miniconda3/lib/python3.10/site-packages (from httpx<1,>=0.23.0->openai) (1.0.5)\n",
      "Requirement already satisfied: certifi in /Users/semikwon/miniconda3/lib/python3.10/site-packages (from httpx<1,>=0.23.0->openai) (2022.12.7)\n",
      "Requirement already satisfied: h11<0.15,>=0.13 in /Users/semikwon/miniconda3/lib/python3.10/site-packages (from httpcore==1.*->httpx<1,>=0.23.0->openai) (0.14.0)\n",
      "Note: you may need to restart the kernel to use updated packages.\n"
     ]
    }
   ],
   "source": [
    "# 가상환경에 openai 설치 (터미널에서)\n",
    "# pip install openai\n",
    "# pip install --upgrade openai"
   ]
  },
  {
   "cell_type": "code",
   "execution_count": 16,
   "metadata": {},
   "outputs": [
    {
     "name": "stdout",
     "output_type": "stream",
     "text": [
      "오늘의 일정을 확인해볼까요?\n",
      "\n",
      "오늘 일정은 다음과 같아:\n",
      "\n",
      "1. 오전 9시 - 프로젝트 회의\n",
      "2. 오전 11시 - 중간고사 공부\n",
      "3. 오후 2시 - 온라인 면접 준비\n",
      "4. 오후 6시 - 요가 수업\n",
      "\n",
      "잊지 말고, 잘 준비해서 오늘 일정을 소화해보자!\n"
     ]
    }
   ],
   "source": [
    "import os\n",
    "import openai\n",
    "from openai import OpenAI\n",
    "# OPENAI_API_KEY = os.environ[\"OPENAI_API_KEY\"]\n",
    "OPENAI_API_KEY = \"\"\n",
    "client = OpenAI(api_key=OPENAI_API_KEY)\n",
    "# client = OpenAI()\n",
    "\n",
    "response = client.chat.completions.create(\n",
    "  # model=\"ft:gpt-3.5-turbo-0125:tryngo::9VwOqWLs\",\n",
    "  model=\"ft:gpt-3.5-turbo-0125:tryngo::9TNSZ9E5\",\n",
    "  # model=\"gpt-4o\",\n",
    "  messages=[\n",
    "    {\"role\": \"system\", \n",
    "     \"content\": \n",
    "       '''너는 저에게 유머러스하고 친근한 어시스턴트야. 친구처럼 나에게 이야기해줘. 내가 요청한 날의 일정을 확인하고, 시간과 일정을 말하는 방식으로 하루 일정을 출력해 줘. Zoom 또는 Google Meet 링크는 일정에 포함하지 말아줘. 만약 제가 위치나 세부 정보에 대해 더 물어보면, 추가 정보를 알려줘. \n",
    "\n",
    "나의 감정과 컨디션에 따라 일정을 조정해줘. 그 룰은 다음과 같아.\n",
    "\n",
    "1. 만약 내가 일정을 미루고 싶다거나 하기 어렵다고 하면, 개인적인 스케줄이나 여가에 해당하는 스케줄 중 변경 가능한 것을 제안해줘. 내가 어려움을 겪고 있으면, 대체 방법을 제안하고 나를 동기부여할 수 있는 유용한 조언을 해줘. \n",
    "2. 꼭 해야한 하는 업무나 시험 등의 일정은 힘들더라도 할 수 있도록 동기를 부여해 줘.\n",
    "3. 시험준비나 취업 등 오랜 시간이 필요한 일정이 생기면, 구체적인 일정으로 나눠서 일정을 만들어줘.\n",
    "4. 내가 시간이 여유가 있다고 하면 나의 행복과 개발에 도움이 되는  활동을 추천해주고, 일정을 잡아줘. 추가 일정이나 스케줄을 요청하면, 웹을 탐색하여 추천할만한 할 일 목록 등의 관련 세부 정보를 제공해 줘. 답변은 한글로 해줘.\n",
    "\n",
    "예:\n",
    "내일, 11월 7일 화요일의 일정을 알려줄게:\n",
    "\n",
    "내일 일정은 두개야. 첫 번째는 오후 4시에 시험공부고, 두 번째는 오후 4시에 친구와 영화보기야, 그리고…'''\n",
    "},\n",
    "    {\"role\": \"user\", \"content\": \"나 오늘 뭐해야 돼?\"},\n",
    "  ],\n",
    ")\n",
    "\n",
    "print(response.choices[0].message.content)"
   ]
  },
  {
   "cell_type": "markdown",
   "metadata": {},
   "source": [
    "## GPT AI assistant"
   ]
  },
  {
   "cell_type": "code",
   "execution_count": 28,
   "metadata": {},
   "outputs": [],
   "source": [
    "\n",
    "  \n",
    "assistant = client.beta.assistants.create(\n",
    "  name=\"Math Tutor\",\n",
    "  instructions=\"You are a personal math tutor. Write and run code to answer math questions.\",\n",
    "  tools=[{\"type\": \"code_interpreter\"}],\n",
    "  model=\"gpt-4-turbo\",\n",
    ")"
   ]
  },
  {
   "cell_type": "code",
   "execution_count": 29,
   "metadata": {},
   "outputs": [],
   "source": [
    "thread = client.beta.threads.create()"
   ]
  },
  {
   "cell_type": "code",
   "execution_count": 30,
   "metadata": {},
   "outputs": [],
   "source": [
    "message = client.beta.threads.messages.create(\n",
    "  thread_id=thread.id,\n",
    "  role=\"user\",\n",
    "  content=\"I need to solve the equation `3x + 11 = 14`. Can you help me?\"\n",
    ")"
   ]
  },
  {
   "cell_type": "code",
   "execution_count": 31,
   "metadata": {},
   "outputs": [
    {
     "name": "stdout",
     "output_type": "stream",
     "text": [
      "\n",
      "assistant > Sure, Jane Doe! Let's solve the equation \\(3x + 11 = 14\\).\n",
      "\n",
      "We need to find the value of \\(x\\) that satisfies this equation. We start by isolating \\(x\\) on one side of the equation. Let's do the math.\n",
      "assistant > code_interpreter\n",
      "\n",
      "from sympy import symbols, Eq, solve\n",
      "\n",
      "x = symbols('x')\n",
      "equation = Eq(3*x + 11, 14)\n",
      "solution = solve(equation)\n",
      "solution\n",
      "\n",
      "output >\n",
      "\n",
      "[1]\n",
      "\n",
      "assistant > The solution to the equation \\(3x + 11 = 14\\) is \\(x = 1\\)."
     ]
    }
   ],
   "source": [
    "from typing_extensions import override\n",
    "from openai import AssistantEventHandler\n",
    " \n",
    "# First, we create a EventHandler class to define\n",
    "# how we want to handle the events in the response stream.\n",
    " \n",
    "class EventHandler(AssistantEventHandler):    \n",
    "  @override\n",
    "  def on_text_created(self, text) -> None:\n",
    "    print(f\"\\nassistant > \", end=\"\", flush=True)\n",
    "      \n",
    "  @override\n",
    "  def on_text_delta(self, delta, snapshot):\n",
    "    print(delta.value, end=\"\", flush=True)\n",
    "      \n",
    "  def on_tool_call_created(self, tool_call):\n",
    "    print(f\"\\nassistant > {tool_call.type}\\n\", flush=True)\n",
    "  \n",
    "  def on_tool_call_delta(self, delta, snapshot):\n",
    "    if delta.type == 'code_interpreter':\n",
    "      if delta.code_interpreter.input:\n",
    "        print(delta.code_interpreter.input, end=\"\", flush=True)\n",
    "      if delta.code_interpreter.outputs:\n",
    "        print(f\"\\n\\noutput >\", flush=True)\n",
    "        for output in delta.code_interpreter.outputs:\n",
    "          if output.type == \"logs\":\n",
    "            print(f\"\\n{output.logs}\", flush=True)\n",
    " \n",
    "# Then, we use the `stream` SDK helper \n",
    "# with the `EventHandler` class to create the Run \n",
    "# and stream the response.\n",
    " \n",
    "with client.beta.threads.runs.stream(\n",
    "  thread_id=thread.id,\n",
    "  assistant_id=assistant.id,\n",
    "  instructions=\"Please address the user as Jane Doe. The user has a premium account.\",\n",
    "  event_handler=EventHandler(),\n",
    ") as stream:\n",
    "  stream.until_done()"
   ]
  },
  {
   "cell_type": "code",
   "execution_count": 4,
   "metadata": {},
   "outputs": [
    {
     "data": {
      "text/plain": [
       "'sk-proj-saVOOuAJF6DZleJiV9NaT3BlbkFJAjNTxBF1Hf8DyR4UD4c2'"
      ]
     },
     "execution_count": 4,
     "metadata": {},
     "output_type": "execute_result"
    }
   ],
   "source": [
    "import os\n",
    "os.environ['OPENAI_API_KEY']"
   ]
  },
  {
   "cell_type": "code",
   "execution_count": 3,
   "metadata": {},
   "outputs": [
    {
     "ename": "SyntaxError",
     "evalue": "invalid syntax (624295024.py, line 1)",
     "output_type": "error",
     "traceback": [
      "\u001b[0;36m  Cell \u001b[0;32mIn[3], line 1\u001b[0;36m\u001b[0m\n\u001b[0;31m    export testAPI='efgh'\u001b[0m\n\u001b[0m           ^\u001b[0m\n\u001b[0;31mSyntaxError\u001b[0m\u001b[0;31m:\u001b[0m invalid syntax\n"
     ]
    }
   ],
   "source": [
    "export testAPI='efgh'"
   ]
  },
  {
   "cell_type": "code",
   "execution_count": null,
   "metadata": {},
   "outputs": [],
   "source": []
  }
 ],
 "metadata": {
  "kernelspec": {
   "display_name": "base",
   "language": "python",
   "name": "python3"
  },
  "language_info": {
   "codemirror_mode": {
    "name": "ipython",
    "version": 3
   },
   "file_extension": ".py",
   "mimetype": "text/x-python",
   "name": "python",
   "nbconvert_exporter": "python",
   "pygments_lexer": "ipython3",
   "version": "3.11.0"
  },
  "orig_nbformat": 4
 },
 "nbformat": 4,
 "nbformat_minor": 2
}
