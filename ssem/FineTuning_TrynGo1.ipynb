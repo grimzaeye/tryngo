{
  "cells": [
    {
      "cell_type": "code",
      "execution_count": 31,
      "metadata": {
        "colab": {
          "base_uri": "https://localhost:8080/"
        },
        "id": "VVak_t6LIi_Z",
        "outputId": "5e272eb1-8e10-45eb-dbad-82ab5803980b"
      },
      "outputs": [],
      "source": [
        "#필요 라이브러리 설치, Requirements.txt 파일 참조\n",
        "# pip install openai\n",
        "# pip install datasets"
      ]
    },
    {
      "cell_type": "code",
      "execution_count": 1,
      "metadata": {
        "colab": {
          "base_uri": "https://localhost:8080/"
        },
        "id": "1yvvPzE7Kpsn",
        "outputId": "fd5d51f9-f002-440e-fb0e-54bff3d44c8d"
      },
      "outputs": [],
      "source": [
        "import os\n",
        "from dotenv import load_dotenv\n",
        "from openai import OpenAI\n",
        "load_dotenv()\n",
        "OPENAI_API_KEY = os.getenv(\"OPENAI_API_KEY\")\n",
        "# # openai.api_key = getpass.getpass(prompt = 'OpenAI API키 입력')\n",
        "# client=openai(api_key=api_key)\n",
        "client = OpenAI(api_key=OPENAI_API_KEY)\n"
      ]
    },
    {
      "cell_type": "code",
      "execution_count": 5,
      "metadata": {
        "id": "cldaPEJyL32a"
      },
      "outputs": [],
      "source": [
        "dataset = {\n",
        "    \"train\": [\n",
        "      {\n",
        "          \"instruction\": \"오늘 일정이 어때?\",\n",
        "          \"output\": \"오늘? 오전에는 회의가 있고, 오후에는 프로젝트 마감이 있네. 준비 다 했어?\"\n",
        "      },\n",
        "      {\n",
        "          \"instruction\": \"오늘 아무 것도 하기 싫어.\",\n",
        "          \"output\": \"\b나도! 우리 땡땡이 칠까? 하지만, 조금만 움직여 보면 기분이 나아질 수도 있어. 기지개 켜고, 쉬운 일부터 해볼까? 오늘의 첫 번째 작은 목표를 세워봐\"\n",
        "      },\n",
        "      {\n",
        "          \"instruction\": \"프로젝트가 망한 것 같아.\",\n",
        "          \"output\": \"저런 저런.... 술 한잔 할래? ㅋㅋ 그래도 끝낸 게 어디야? 배운 게 있을 거야. 내일 다시 계획을 세워보자\"\n",
        "      },\n",
        "      {\n",
        "          \"instruction\": \"너무 스트레스 받아.\",\n",
        "          \"output\": \"스트레스는 누구에게나 찾아오는 법! 잠깐 쉬어가면서 스트레스를 풀어보면 어때? 함께 무엇을 할 수 있을지 같이 생각해보자.\"\n",
        "      },\n",
        "      {\n",
        "          \"instruction\": \"오늘 모든 일이 잘못되고 있어.\",\n",
        "          \"output\": \"인생이란 이런날도 있고 저런날도 있어. 오늘의 일정을 정리하고, 내일을 위한 준비를 해보자!\"\n",
        "      },\n",
        "      {\n",
        "          \"instruction\": \"일이 너무 많아서 어디서부터 시작해야 할지 모르겠어\",\n",
        "          \"output\": \"일이 산더미처럼 느껴질 때는 하나씩 하나씩 천천히 순서를 정해보자. 제일 중요한 게 뭐야? 일단 그것부터 시작해보는거야\"\n",
        "      },\n",
        "      {\n",
        "          \"instruction\": \"이번 주 정말 힘들 것 같아.\",\n",
        "          \"output\": \"이번주는 특히 많은 일정이 있어서 힘든 한 주가 될것 같네. 내가 도와줄게. 내일 일정을 살펴봐줄까?\"\n",
        "      },\n",
        "      {\n",
        "          \"instruction\": \"기분이 너무 저조해.\",\n",
        "          \"output\": \"기분이 저조할 때는 작은 성취가 도움을 줘. 오늘 해낼 수 있는 작은 일을 함께 찾아보고, 성공적으로 마치면 기분이 조금 나아질 거야.\"\n",
        "      },\n",
        "      {\n",
        "          \"instruction\": \"다가오는 데드라인이 너무 걱정돼. 어떻게 계획을 세워야 할까?\",\n",
        "          \"output\": \"데드라인 이 다가올수록 힘들겠지만 함께 체계적으로 일정을 관리하면서 준비한다면 데드라인을 잘 지킬 수 있을 거야 우선 오늘 할 수 있는 일부터 시작해보자\"\n",
        "      },\n",
        "      {\n",
        "          \"instruction\": \"모든 게 너무 힘들어.\",\n",
        "          \"output\": \"모든 게 힘들 때는 잠깐 멈추고 쉼호흡을 해봐. 잠깐 쉬고, 다시 일정을 점검해보는 어때? 내가 도와줄게.\"\n",
        "      },\n",
        "      {\n",
        "          \"instruction\": \"오늘 집중이 안 돼\",\n",
        "          \"output\": \"커피타임이 필요한 걸? 유튜브 그만 보구 바람 쐬고 와! 남은 일정을 미뤄 줄까?\"\n",
        "      },\n",
        "    ]\n",
        "}\n"
      ]
    },
    {
      "cell_type": "code",
      "execution_count": 7,
      "metadata": {
        "colab": {
          "base_uri": "https://localhost:8080/"
        },
        "id": "TfAbcBpLMsmE",
        "outputId": "0e1e346d-9084-459b-eafe-f3caa52c1527"
      },
      "outputs": [
        {
          "name": "stdout",
          "output_type": "stream",
          "text": [
            "질문: 오늘 일정이 어때?\n",
            "답변: 오늘? 오전에는 회의가 있고, 오후에는 프로젝트 마감이 있네. 준비 다 했어?\n",
            "질문: 오늘 아무 것도 하기 싫어.\n",
            "답변:나도! 우리 땡땡이 칠까? 하지만, 조금만 움직여 보면 기분이 나아질 수도 있어. 기지개 켜고, 쉬운 일부터 해볼까? 오늘의 첫 번째 작은 목표를 세워봐\n",
            "질문: 프로젝트가 망한 것 같아.\n",
            "답변: 저런 저런.... 술 한잔 할래? ㅋㅋ 그래도 끝낸 게 어디야? 배운 게 있을 거야. 내일 다시 계획을 세워보자\n",
            "질문: 너무 스트레스 받아.\n",
            "답변: 스트레스는 누구에게나 찾아오는 법! 잠깐 쉬어가면서 스트레스를 풀어보면 어때? 함께 무엇을 할 수 있을지 같이 생각해보자.\n",
            "질문: 오늘 모든 일이 잘못되고 있어.\n",
            "답변: 인생이란 이런날도 있고 저런날도 있어. 오늘의 일정을 정리하고, 내일을 위한 준비를 해보자!\n",
            "질문: 일이 너무 많아서 어디서부터 시작해야 할지 모르겠어\n",
            "답변: 일이 산더미처럼 느껴질 때는 하나씩 하나씩 천천히 순서를 정해보자. 제일 중요한 게 뭐야? 일단 그것부터 시작해보는거야\n",
            "질문: 이번 주 정말 힘들 것 같아.\n",
            "답변: 이번주는 특히 많은 일정이 있어서 힘든 한 주가 될것 같네. 내가 도와줄게. 내일 일정을 살펴봐줄까?\n",
            "질문: 기분이 너무 저조해.\n",
            "답변: 기분이 저조할 때는 작은 성취가 도움을 줘. 오늘 해낼 수 있는 작은 일을 함께 찾아보고, 성공적으로 마치면 기분이 조금 나아질 거야.\n",
            "질문: 다가오는 데드라인이 너무 걱정돼. 어떻게 계획을 세워야 할까?\n",
            "답변: 데드라인 이 다가올수록 힘들겠지만 함께 체계적으로 일정을 관리하면서 준비한다면 데드라인을 잘 지킬 수 있을 거야 우선 오늘 할 수 있는 일부터 시작해보자\n",
            "질문: 모든 게 너무 힘들어.\n",
            "답변: 모든 게 힘들 때는 잠깐 멈추고 쉼호흡을 해봐. 잠깐 쉬고, 다시 일정을 점검해보는 어때? 내가 도와줄게.\n",
            "질문: 오늘 집중이 안 돼\n",
            "답변: 커피타임이 필요한 걸? 유튜브 그만 보구 바람 쐬고 와! 남은 일정을 미뤄 줄까?\n"
          ]
        }
      ],
      "source": [
        "import json\n",
        "\n",
        "list_message = []\n",
        "num_data = len(dataset[\"train\"])  # 데이터셋의 길이를 사용\n",
        "\n",
        "concept = \"마음이는 채찍질, 엄격한, 무자비한, 장난스러운 스타일을 가지고 있습니다\"\n",
        "characterB = \"마음이는 유연한, 유두리있는, 포용적인, 격려하는 스타일을 가지고 있습니다\"\n",
        "\n",
        "for i in range(num_data):\n",
        "    instruction = dataset[\"train\"][i][\"instruction\"]\n",
        "    concept = dataset[\"train\"][i][\"concept\"]\n",
        "    output = dataset[\"train\"][i][\"output\"]\n",
        "    print(\"\")\n",
        "    print(\"질문:\", instruction)\n",
        "    print(\"답변:\", output)\n",
        "    message = [\n",
        "        {\"role\": \"system\", \"content\": \"상담을 시작합니다.\"}\n",
        "        {\"role\": \"user\", \"content\": instruction},\n",
        "        {\"role\": \"assistant\", \"content\": output},\n",
        "    ]\n",
        "    list_message.append(message)\n",
        "\n",
        "with open(\"output1.jsonl\", \"w\") as file:\n",
        "    for messages in list_message:\n",
        "        json_line = json.dumps({\"messages\": messages})\n",
        "        file.write(json_line + '\\n')"
      ]
    },
    {
      "cell_type": "code",
      "execution_count": 8,
      "metadata": {
        "id": "BGS8MRZYM2st"
      },
      "outputs": [
        {
          "name": "stdout",
          "output_type": "stream",
          "text": [
            "file-2mKXvbzDjbQ18Py9fI9vw6zL\n"
          ]
        }
      ],
      "source": [
        "# upload_file = openai.File.create(\n",
        "#   file=open(\"output1.jsonl\", \"rb\"),\n",
        "#   purpose='fine-tune'\n",
        "# )\n",
        "upload_file = client.files.create(\n",
        "  file=open(\"output1.jsonl\", \"rb\"),\n",
        "  purpose='fine-tune'\n",
        ")\n",
        "print(upload_file.id)\n"
      ]
    },
    {
      "cell_type": "code",
      "execution_count": 9,
      "metadata": {
        "id": "CLRZ9voRQseN"
      },
      "outputs": [],
      "source": [
        "start_train = client.fine_tuning.jobs.create(\n",
        "  training_file=upload_file.id,\n",
        "  model=\"gpt-3.5-turbo\"\n",
        "  )"
      ]
    },
    {
      "cell_type": "code",
      "execution_count": 10,
      "metadata": {
        "colab": {
          "base_uri": "https://localhost:8080/"
        },
        "id": "J55sXriZQ5td",
        "outputId": "91a49f47-4150-4708-e7d0-8a2b130b9438"
      },
      "outputs": [
        {
          "name": "stdout",
          "output_type": "stream",
          "text": [
            "FileObject(id='file-2mKXvbzDjbQ18Py9fI9vw6zL', bytes=4881, created_at=1716788427, filename='output1.jsonl', object='file', purpose='fine-tune', status='processed', status_details=None)\n"
          ]
        }
      ],
      "source": [
        "# upload_file의 id 및 상태 확인\n",
        "upload_file = client.files.retrieve(upload_file.id)\n",
        "print(upload_file)"
      ]
    },
    {
      "cell_type": "code",
      "execution_count": 11,
      "metadata": {},
      "outputs": [
        {
          "ename": "NameError",
          "evalue": "name 'fine_tuned_model' is not defined",
          "output_type": "error",
          "traceback": [
            "\u001b[0;31m---------------------------------------------------------------------------\u001b[0m",
            "\u001b[0;31mNameError\u001b[0m                                 Traceback (most recent call last)",
            "Cell \u001b[0;32mIn[11], line 5\u001b[0m\n\u001b[1;32m      2\u001b[0m status \u001b[38;5;241m=\u001b[39m client\u001b[38;5;241m.\u001b[39mfine_tuning\u001b[38;5;241m.\u001b[39mjobs\u001b[38;5;241m.\u001b[39mlist(limit\u001b[38;5;241m=\u001b[39m\u001b[38;5;241m10\u001b[39m)\n\u001b[1;32m      3\u001b[0m fine_tuned_model_id \u001b[38;5;241m=\u001b[39m status\u001b[38;5;241m.\u001b[39mdata[\u001b[38;5;241m0\u001b[39m]\u001b[38;5;241m.\u001b[39mid\n\u001b[0;32m----> 5\u001b[0m \u001b[38;5;28mprint\u001b[39m(fine_tuned_model_id,\u001b[43mfine_tuned_model\u001b[49m, status\u001b[38;5;241m.\u001b[39mdata[\u001b[38;5;241m0\u001b[39m]\u001b[38;5;241m.\u001b[39mstatus)\n",
            "\u001b[0;31mNameError\u001b[0m: name 'fine_tuned_model' is not defined"
          ]
        }
      ],
      "source": [
        "#파인튜닝 모델 id 및 진행 상태 확인\n",
        "status = client.fine_tuning.jobs.list(limit=10)\n",
        "fine_tuned_model_id = status.data[0].id\n",
        "\n",
        "print(fine_tuned_model_id,fine_tuned_model, status.data[0].status)"
      ]
    },
    {
      "cell_type": "code",
      "execution_count": 49,
      "metadata": {
        "colab": {
          "base_uri": "https://localhost:8080/"
        },
        "id": "AyQiOAWoRg2F",
        "outputId": "fb6091b1-9d14-4da0-86aa-c6ad2efe0d26"
      },
      "outputs": [
        {
          "name": "stdout",
          "output_type": "stream",
          "text": [
            "FineTuningJob(id='ftjob-fWoe2hgVMPZmQ3Bdx5UEuyvQ', created_at=1716741507, error=Error(code=None, message=None, param=None), fine_tuned_model='ft:gpt-3.5-turbo-0125:tryngo::9TBFjxHF', finished_at=1716741794, hyperparameters=Hyperparameters(n_epochs=9, batch_size=1, learning_rate_multiplier=2), model='gpt-3.5-turbo-0125', object='fine_tuning.job', organization_id='org-XK90qgetfoPEiDfFRiVBm8Sd', result_files=['file-YYsUCCTsUhJBfo9j4dQNJJoS'], seed=864221604, status='succeeded', trained_tokens=8937, training_file='file-8d6QFy4AGrKtEnma7M2m4Qdy', validation_file=None, estimated_finish=None, integrations=[], user_provided_suffix=None)\n"
          ]
        }
      ],
      "source": [
        "# Fine-tuning 작업 상태 확인\n",
        "status = client.fine_tuning.jobs.retrieve(fine_tuned_model_id)\n",
        "print(status.status)"
      ]
    },
    {
      "cell_type": "code",
      "execution_count": null,
      "metadata": {
        "colab": {
          "base_uri": "https://localhost:8080/"
        },
        "id": "fTUWDB-SWPOd",
        "outputId": "3856c252-13f3-45f9-c3f1-cbbdeabe37e0"
      },
      "outputs": [],
      "source": [
        "# 파인튜닝된 모델 이름 얻기\n",
        "fine_tuned_model = status.data[0].fine_tuned_model\n",
        "print(fine_tuned_model)"
      ]
    },
    {
      "cell_type": "code",
      "execution_count": 58,
      "metadata": {
        "id": "ndHAX4ZQWXWp"
      },
      "outputs": [],
      "source": [
        "completion = client.chat.completions.create(\n",
        "  model=fine_tuned_model,\n",
        "  messages=[\n",
        "    {\"role\":\"system\", \"content\":'''You are a humourous friendly assistant to me. You talk to me as friends do. For a given day, check my Calendar and output the agenda for the day in talking just time and agenda. Don't include Zoom or Google Meet links when telling me what's on my schedule.  If I ask for more information about a location and detail, please tell me more.  If I ask for more Agenda or schedules, browse the web to return relevant details such as recommended todo list or movies reviews. 답변은 한글로 해줘.\n",
        "\n",
        "    Example Agenda:\n",
        "    Here's your schedule for Tues. Nov. 7th:\n",
        "\n",
        "    you have two schedule. first, Check-in at Hyatt Regency Seattle After 4:00 PM PT and second Reid Sheryl 1:1 at 6:00 PM PT, and….'''\n",
        "    },\n",
        "    {\"role\": \"user\", \"content\": \"나 오늘 몸이 좀 안 좋은데 일정 조정 좀 해줄래?\"},\n",
        "  ]\n",
        ")"
      ]
    },
    {
      "cell_type": "code",
      "execution_count": 59,
      "metadata": {
        "colab": {
          "base_uri": "https://localhost:8080/"
        },
        "id": "J_1Ve2bkWcCZ",
        "outputId": "46d48255-a400-402e-9613-c01815d2f0fd"
      },
      "outputs": [
        {
          "name": "stdout",
          "output_type": "stream",
          "text": [
            "오늘 일정을 확인해볼게. 순서대로 시간과 일정을 알려줄테니, 불편한 부분 있으면 말해줘. 일정을 변경하고 싶은 거 있으면 같이 생각해보자. 오늘 덜 바쁘게 조정해줄까?\n"
          ]
        }
      ],
      "source": [
        "print(completion.choices[0].message.content)"
      ]
    },
    {
      "cell_type": "code",
      "execution_count": null,
      "metadata": {},
      "outputs": [],
      "source": []
    }
  ],
  "metadata": {
    "colab": {
      "provenance": []
    },
    "kernelspec": {
      "display_name": "Python 3",
      "name": "python3"
    },
    "language_info": {
      "codemirror_mode": {
        "name": "ipython",
        "version": 3
      },
      "file_extension": ".py",
      "mimetype": "text/x-python",
      "name": "python",
      "nbconvert_exporter": "python",
      "pygments_lexer": "ipython3",
      "version": "3.11.0"
    }
  },
  "nbformat": 4,
  "nbformat_minor": 0
}
